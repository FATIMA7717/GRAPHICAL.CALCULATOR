{
  "nbformat": 4,
  "nbformat_minor": 0,
  "metadata": {
    "colab": {
      "provenance": [],
      "authorship_tag": "ABX9TyOQ8c5l4XQikCfVwnhDlu+d",
      "include_colab_link": true
    },
    "kernelspec": {
      "name": "python3",
      "display_name": "Python 3"
    },
    "language_info": {
      "name": "python"
    }
  },
  "cells": [
    {
      "cell_type": "markdown",
      "metadata": {
        "id": "view-in-github",
        "colab_type": "text"
      },
      "source": [
        "<a href=\"https://colab.research.google.com/github/FATIMA7717/GRAPHICAL.CALCULATOR/blob/main/app_py.ipynb\" target=\"_parent\"><img src=\"https://colab.research.google.com/assets/colab-badge.svg\" alt=\"Open In Colab\"/></a>"
      ]
    },
    {
      "cell_type": "code",
      "execution_count": null,
      "metadata": {
        "id": "SkiLrynYUTj7"
      },
      "outputs": [],
      "source": [
        "# Step 1: Import necessary libraries\n",
        "import streamlit as st\n",
        "import numpy as np\n",
        "import matplotlib.pyplot as plt\n",
        "\n",
        "# Step 2: Title of the app\n",
        "st.title(\"Graphical Calculator\")\n",
        "\n",
        "# Basic Arithmetic Operations\n",
        "st.subheader(\"Basic Arithmetic Operations\")\n",
        "num1 = st.number_input(\"Enter number 1:\", value=0.0)\n",
        "num2 = st.number_input(\"Enter number 2:\", value=0.0)\n",
        "\n",
        "operation = st.selectbox(\"Choose an operation:\", [\"Add\", \"Subtract\", \"Multiply\", \"Divide\"])\n",
        "if st.button(\"Calculate\"):\n",
        "    if operation == \"Add\":\n",
        "        result = num1 + num2\n",
        "        st.write(\"Addition Result:\", result)\n",
        "    elif operation == \"Subtract\":\n",
        "        result = num1 - num2\n",
        "        st.write(\"Subtraction Result:\", result)\n",
        "    elif operation == \"Multiply\":\n",
        "        result = num1 * num2\n",
        "        st.write(\"Multiplication Result:\", result)\n",
        "    elif operation == \"Divide\":\n",
        "        if num2 != 0:\n",
        "            result = num1 / num2\n",
        "            st.write(\"Division Result:\", result)\n",
        "        else:\n",
        "            st.write(\"Error: Division by zero\")\n",
        "\n",
        "# Trigonometric Functions\n",
        "st.subheader(\"Trigonometric Functions\")\n",
        "single_value = st.number_input(\"Enter a single number for trigonometric functions:\", value=0.0)\n",
        "\n",
        "trig_function = st.selectbox(\"Choose a trigonometric function:\", [\"Sine\", \"Cosine\", \"Tangent\"])\n",
        "if st.button(\"Calculate Trigonometric Function\"):\n",
        "    if trig_function == \"Sine\":\n",
        "        result = np.sin(single_value)\n",
        "        st.write(f\"sin({single_value}) =\", result)\n",
        "    elif trig_function == \"Cosine\":\n",
        "        result = np.cos(single_value)\n",
        "        st.write(f\"cos({single_value}) =\", result)\n",
        "    elif trig_function == \"Tangent\":\n",
        "        result = np.tan(single_value)\n",
        "        st.write(f\"tan({single_value}) =\", result)\n",
        "\n",
        "# Graph Plotting\n",
        "st.subheader(\"Custom Plot of X vs Y\")\n",
        "x_values_input = st.text_input(\"Enter x values (comma-separated):\")\n",
        "y_values_input = st.text_input(\"Enter y values (comma-separated):\")\n",
        "\n",
        "if st.button(\"Plot Custom Graph\"):\n",
        "    try:\n",
        "        x_values = list(map(float, x_values_input.split(',')))\n",
        "        y_values = list(map(float, y_values_input.split(',')))\n",
        "\n",
        "        if len(x_values) != len(y_values):\n",
        "            st.write(\"Error: x and y values must have the same number of elements.\")\n",
        "        else:\n",
        "            plt.figure(figsize=(8, 5))\n",
        "            plt.plot(x_values, y_values, marker='o', linestyle='-', color='b')\n",
        "            plt.xlabel('X values')\n",
        "            plt.ylabel('Y values')\n",
        "            plt.title('Custom Plot of X vs Y')\n",
        "            plt.grid(True)\n",
        "            st.pyplot(plt)\n",
        "            plt.close()  # Close the plot after displaying\n",
        "    except ValueError:\n",
        "        st.write(\"Error: Please enter valid numeric values separated by commas.\")\n"
      ]
    }
  ]
}